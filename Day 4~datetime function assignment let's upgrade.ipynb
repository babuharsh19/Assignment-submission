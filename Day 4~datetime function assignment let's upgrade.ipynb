{
 "cells": [
  {
   "cell_type": "code",
   "execution_count": 2,
   "id": "7545b4fd",
   "metadata": {},
   "outputs": [],
   "source": [
    "#Ques 1\n",
    "#Take str =='today': return today date\n"
   ]
  },
  {
   "cell_type": "code",
   "execution_count": 18,
   "id": "50078c12",
   "metadata": {},
   "outputs": [],
   "source": [
    "from datetime import date"
   ]
  },
  {
   "cell_type": "code",
   "execution_count": 3,
   "id": "8cc4742a",
   "metadata": {},
   "outputs": [],
   "source": [
    "today = date.today()"
   ]
  },
  {
   "cell_type": "code",
   "execution_count": 5,
   "id": "3668a764",
   "metadata": {},
   "outputs": [
    {
     "name": "stdout",
     "output_type": "stream",
     "text": [
      "today's date is 2021-06-02\n"
     ]
    }
   ],
   "source": [
    "print(f\"today's date is {today}\")"
   ]
  },
  {
   "cell_type": "code",
   "execution_count": 9,
   "id": "ea44245e",
   "metadata": {},
   "outputs": [
    {
     "name": "stdout",
     "output_type": "stream",
     "text": [
      "today's date is 2 of 6th month of 2021\n"
     ]
    }
   ],
   "source": [
    "print(f\"today's date is {today.day} of {today.month}th month of {today.year}\")"
   ]
  },
  {
   "cell_type": "code",
   "execution_count": 16,
   "id": "63b441c2",
   "metadata": {},
   "outputs": [],
   "source": [
    "#Ques 2\n",
    "#take str =='yesterday':return yesterday date\n"
   ]
  },
  {
   "cell_type": "code",
   "execution_count": 17,
   "id": "a058c16c",
   "metadata": {},
   "outputs": [],
   "source": [
    "from datetime import timedelta"
   ]
  },
  {
   "cell_type": "code",
   "execution_count": 12,
   "id": "f1c202e2",
   "metadata": {},
   "outputs": [],
   "source": [
    "yesterday = today - timedelta(days = 1)"
   ]
  },
  {
   "cell_type": "code",
   "execution_count": 13,
   "id": "be39840f",
   "metadata": {},
   "outputs": [
    {
     "name": "stdout",
     "output_type": "stream",
     "text": [
      "yesterday date was 2021-06-01\n"
     ]
    }
   ],
   "source": [
    "print(f\"yesterday date was {yesterday}\")"
   ]
  },
  {
   "cell_type": "code",
   "execution_count": 14,
   "id": "a7b3c4b2",
   "metadata": {},
   "outputs": [],
   "source": [
    "  #Ques 3\n",
    "  #take str=='last week': return today_Date3 - one_week"
   ]
  },
  {
   "cell_type": "code",
   "execution_count": 20,
   "id": "cee3b802",
   "metadata": {},
   "outputs": [],
   "source": [
    "last_week = today - timedelta(weeks =1)"
   ]
  },
  {
   "cell_type": "code",
   "execution_count": 22,
   "id": "5867b7e1",
   "metadata": {},
   "outputs": [
    {
     "name": "stdout",
     "output_type": "stream",
     "text": [
      "last week date was 2021-05-26\n"
     ]
    }
   ],
   "source": [
    "print(f\"last week date was {last_week}\")"
   ]
  },
  {
   "cell_type": "code",
   "execution_count": null,
   "id": "831eff49",
   "metadata": {},
   "outputs": [],
   "source": []
  }
 ],
 "metadata": {
  "kernelspec": {
   "display_name": "Python 3",
   "language": "python",
   "name": "python3"
  },
  "language_info": {
   "codemirror_mode": {
    "name": "ipython",
    "version": 3
   },
   "file_extension": ".py",
   "mimetype": "text/x-python",
   "name": "python",
   "nbconvert_exporter": "python",
   "pygments_lexer": "ipython3",
   "version": "3.9.5"
  }
 },
 "nbformat": 4,
 "nbformat_minor": 5
}
